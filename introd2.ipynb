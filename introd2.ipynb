{
 "cells": [
  {
   "cell_type": "code",
   "execution_count": null,
   "metadata": {},
   "outputs": [],
   "source": [
    "# déclaration des variables"
   ]
  },
  {
   "cell_type": "code",
   "execution_count": null,
   "metadata": {},
   "outputs": [],
   "source": [
    "name = \"Ahmed\"           # string\n",
    "age= 80          # integer\n",
    "taille = 1.80       # float \n",
    "\n",
    "print(name,\" \",age,\" \",taille)\n",
    "a = b = c =1\n",
    "name , age, taille = \"Ahmed\" , 80, 1.80\n",
    "\n",
    "print(a,\" \",b,\" \",c)\n",
    "print(name,\" \",age,\" \",taille)\n"
   ]
  },
  {
   "cell_type": "code",
   "execution_count": null,
   "metadata": {},
   "outputs": [],
   "source": [
    "a,b=9,2\n",
    "print(a,\" \",b)\n",
    "print(\"a+b =\",a+b)\n",
    "print(\"a-b =\",a-b)\n",
    "print(\"a*b =\",a*b)\n",
    "print(\"a/b =\",a/b)\n",
    "print(\"a%b =\",a%b)\n",
    "print(\"a**b =\",a**b)\n",
    "print(\"a//b =\",a//b)\n"
   ]
  },
  {
   "cell_type": "code",
   "execution_count": null,
   "metadata": {},
   "outputs": [],
   "source": [
    "a,b=93,60   #01011101\n",
    "            #00111100\n",
    "print(a,\" \",b)\n",
    "print(\"a&b =\",a&b)\n",
    "print(\"a|b =\",a|b)\n",
    "print(\"a^b =\",a^b)\n",
    "print(\"~a =\",~a)\n",
    "print(\"a<<2 =\",a<<2)\n",
    "print(\"a>>2 =\",a>>2)\n"
   ]
  },
  {
   "cell_type": "code",
   "execution_count": null,
   "metadata": {},
   "outputs": [],
   "source": [
    "str = 'Hello-World!'\n",
    "print(str)          # affichage de la chaine\n",
    "print(str[0])       # affichage du premier caractère de la chaine\n",
    "print(str[1:5])     # affichage des caractères de 2 à 5\n",
    "print(str[2:])      # affichage de la chaine du 3ème caractère\n",
    "print(str * 2)      # double affichage de la chaine\n",
    "print(str[:6] + \"python\") # affichage de la chaine avec concatination\n"
   ]
  },
  {
   "cell_type": "code",
   "execution_count": null,
   "metadata": {},
   "outputs": [],
   "source": [
    "ma_liste = [0, \"12\", 5, \"chaine\"]\n",
    "\n",
    "print(ma_liste[1])\n",
    "print(ma_liste[-2])\n",
    "\n",
    "ma_liste[0]=10 #modification\n",
    "\n",
    "print(ma_liste)"
   ]
  },
  {
   "cell_type": "code",
   "execution_count": null,
   "metadata": {},
   "outputs": [],
   "source": [
    "#opérateur +\n",
    "ma_liste = [0, \"12\", 5, \"chaine\"]\n",
    "ma_liste+= [10]\n",
    "\n",
    "print(ma_liste)\n",
    "ma_liste= [\"exe\"]+ma_liste\n",
    "\n",
    "print(ma_liste)\n",
    "\n",
    "#append\n",
    "ma_liste.append(20) \n",
    "print(ma_liste)\n",
    "\n",
    "#insert\n",
    "ma_liste.insert(1,23)\n",
    "print(ma_liste)\n",
    "\n",
    "#extend\n",
    "ma_liste.extend([22,\"toto\"])\n",
    "print(ma_liste)\n",
    "liste= [11,5,0,23]\n",
    "ma_liste.extend(liste)\n",
    "print(\"extend \",ma_liste)\n",
    "\n",
    "#remove\n",
    "ma_liste.remove(0)\n",
    "print(\"remove \",ma_liste)\n",
    "\n",
    "#del\n",
    "del ma_liste[3]\n",
    "print(\"del\",ma_liste)\n",
    "\n",
    "ma_liste[1:3]=[]\n",
    "print(ma_liste)\n"
   ]
  },
  {
   "cell_type": "code",
   "execution_count": null,
   "metadata": {},
   "outputs": [],
   "source": [
    "H=[2 *i for i in range (0,11) ] # liste des nombres paires inférieurs à 20 et supérieurs à 0.\n",
    "print(\"H=\",H)\n",
    "K=[i for i in range (21) if i%2==0] # les mêmes éléments que ceux de H.\n",
    "print(\"K=\",K)\n",
    "M=[n for n in range (0,21,2)] # les mêmes éléments que pour les listes H et K. \n",
    "print(\"M=\",M)\n",
    "N=[x for x in M if x%3!=0] # liste des nombres pairs inférieurs à 20, non multiples de 3. \n",
    "print(\"N=\",N)\n",
    "L=[ i for i in range(0,21,5)]\n",
    "print(\"L=\",L)\n",
    "P=[y for y in N if y not in L] # liste des nombres pairs inférieurs à 20, non multiples de 3 et 5.\n",
    "print(\"P=\",P)\n",
    "F=P\n",
    "\n",
    "F[0]=123\n",
    "\n",
    "print(F)\n",
    "print(P)\n"
   ]
  },
  {
   "cell_type": "code",
   "execution_count": null,
   "metadata": {},
   "outputs": [],
   "source": [
    "tuple1 =()   # tuple vide\n",
    "tuple2 = ('un',) # tuple contient un seul élément n’oublier pas la ,\n",
    "tuple3 = (1, 45, 85 , 'idx' , 'val', 2) #tuple de données hétérogènes\n",
    "print(tuple3)\n",
    "print(tuple3[2])\n",
    "#tuple2[3]=5"
   ]
  },
  {
   "cell_type": "markdown",
   "metadata": {},
   "source": [
    "### Les dictionnaires"
   ]
  },
  {
   "cell_type": "code",
   "execution_count": null,
   "metadata": {},
   "outputs": [],
   "source": [
    "#Insertion dans un dicio\n",
    "dico2 = {'inf01' : 'ahmed' , \"inf02\" : \"amine\" , \"inf03\" : \"khaled\", 4:\"youcef\" }  \n",
    "dico2[\"inf04\"] = \"bilal\"  \n",
    "print(dico2)\n",
    "\n",
    "#Modification\n",
    "dico2['inf03'] = 'ibrahim'\n",
    "print(dico2)\n",
    "\n",
    "#Suppression\n",
    "del dico2['inf03']  #  supprimer la paire de clé \"inf03\"\n",
    "print(dico2)\n",
    "dico2.clear() # vider le dictionnaire\n",
    "print(dico2)\n",
    "del dico2 # supprimer tout le dictionnaire\n",
    "#print(dico2)\n"
   ]
  },
  {
   "cell_type": "code",
   "execution_count": null,
   "metadata": {},
   "outputs": [],
   "source": [
    "#Récupérer  les clés \n",
    "fruits = {\"pommes\":21, \"raisin\":3, \"poires\":31}\n",
    "for cle in fruits.keys():\n",
    "    print(cle)\n",
    "\n",
    "#Récupérer les valeurs :\n",
    "fruits = {\"pommes\":21, \"raisin\":3, \"poires\":31}\n",
    "for valeur in fruits.values():\n",
    "    print(valeur)\n",
    "\n",
    "print(fruits.items())\n",
    "#Récupérer les clés et les valeurs par une boucle\n",
    "fruits = {\"pommes\":21, \"raisin\":3, \"poires\":31}\n",
    "for cle , valeur in fruits.items():\n",
    "    print(cle,\"=>\" , valeur)"
   ]
  },
  {
   "cell_type": "markdown",
   "metadata": {},
   "source": [
    "### Manipulation des dictionnaires"
   ]
  },
  {
   "cell_type": "code",
   "execution_count": null,
   "metadata": {},
   "outputs": [],
   "source": [
    "fruits = {\"pommes\":21, \"raisin\":3, \"poires\":31}\n",
    "#Retourner la liste des clés du dictionnaire\n",
    "print(fruits.keys())\n",
    "\n",
    "#Mettre à jour le dictionnaire fruits par le dictionnaire dico1\n",
    "dico1={\"pommes\":34,\"figues\":44}\n",
    "fruits.update( dico1)\n",
    "print(fruits)\n",
    "\n",
    "print(fruits.items()) #Retourner la liste de paires (clé, valeur)\n",
    "\n",
    "print(fruits.values())  #Retourner la liste des valeurs du dictionnaire fruits\n",
    "\n",
    "dico2 = fruits\n",
    "dico2[\"pommes\"]=22\n",
    "print(fruits.items())\n",
    "print(dico2.items())\n",
    "\n",
    "dico3 = fruits.copy() #Retourner une copie du dictionnaire fruits\n",
    "dico3[\"pommes\"]=33\n",
    "print(fruits.items())\n",
    "print(dico3.items())\n",
    "\n",
    "print(fruits.get(\"pommes\",\"default\")) #Retourne la valeur de la clé \"key\" si elle existe sinon retourne la valuer \"default\"\n",
    "\n"
   ]
  },
  {
   "cell_type": "markdown",
   "metadata": {},
   "source": [
    "## Input & Output"
   ]
  },
  {
   "cell_type": "code",
   "execution_count": null,
   "metadata": {},
   "outputs": [],
   "source": [
    "age = input('votre age : ')\n",
    "\n",
    "print(age*2)\n",
    "ageInt = int(age)\n",
    "print(int(age)*2)\n",
    "print(age*3)\n",
    "print(ageInt*3)"
   ]
  },
  {
   "cell_type": "markdown",
   "metadata": {},
   "source": [
    "## les conditions"
   ]
  },
  {
   "cell_type": "code",
   "execution_count": null,
   "metadata": {},
   "outputs": [],
   "source": [
    "x=int(input())\n",
    "if x%2:\n",
    "    print(x, ' : est impaire')\n",
    "else:\n",
    "    print(x, ' : est paire')\n",
    "\n",
    "#Multiple conditions elif \n",
    "x = int(input())\n",
    "if x <= 15:\n",
    "    y = x + 15\n",
    "elif x <= 30:\n",
    "    y = x + 30\n",
    "else:\n",
    "    y = x\n",
    "print(' y =', y)"
   ]
  },
  {
   "cell_type": "markdown",
   "metadata": {},
   "source": [
    "## Boucles"
   ]
  },
  {
   "cell_type": "code",
   "execution_count": null,
   "metadata": {},
   "outputs": [],
   "source": [
    "x=1\n",
    "while x<=10:\n",
    "    print(x ,'* 7 = ', x*7)\n",
    "    x+=1\n",
    "\n",
    "x=1\n",
    "while x<=10:\n",
    "    print(x ,'* 7 = ', x*7)\n",
    "    x+=1\n",
    "else:\n",
    "     print('fin de calcul')\n"
   ]
  },
  {
   "cell_type": "code",
   "execution_count": null,
   "metadata": {},
   "outputs": [],
   "source": [
    "liste=(5, 10, 15, 23, 13, 29)\n",
    "for nombre in liste:\n",
    "       print('Le nombre est',nombre)\n",
    "\n",
    "for nombre in range(2, 11, 2):\n",
    "    print (nombre,' : multiple de 2 :')\n",
    "\n",
    "print ('\\ntable de multiplication de ', nombre)\n",
    "\n",
    "for nombre2 in range( 11):\n",
    "    print(nombre, '*', nombre2, '=', nombre*nombre2)\n"
   ]
  },
  {
   "cell_type": "code",
   "execution_count": null,
   "metadata": {},
   "outputs": [],
   "source": [
    "for x in range(1, 11):\n",
    "      if x == 5:\n",
    "                 break\n",
    "      print(x) \n",
    "print (\"Boucle interrompue pour x =\", x)\n",
    "\n",
    "\n",
    "for x in range(1, 11):\n",
    "    if x == 5:\n",
    "        continue\n",
    "    print(x, end=\" \") \n"
   ]
  },
  {
   "cell_type": "markdown",
   "metadata": {},
   "source": [
    "## Les fonctions "
   ]
  },
  {
   "cell_type": "code",
   "execution_count": null,
   "metadata": {},
   "outputs": [],
   "source": [
    "def min(a, b):\n",
    "    a=9\n",
    "    if a < b:\n",
    "        return a\n",
    "    else:\n",
    "        return b\n",
    "    \n",
    "\n",
    "x=int(input())\n",
    "y=int(input())\n",
    "print(\"le min entre\",x, \" et \", y , \"est :\",min(x,y))\n",
    "print(x)\n"
   ]
  },
  {
   "cell_type": "code",
   "execution_count": null,
   "metadata": {},
   "outputs": [],
   "source": [
    "def init_List( mylist2 ):\n",
    "    mylist2+=[0,0,0,0]\n",
    "    print(\"Values inside the function : \", mylist2)\n",
    "    \n",
    "mylist = [10, 20, 30]\n",
    "print(\"Values outside the function: \", mylist)\n",
    "init_List( mylist )\n",
    "print(\"Values outside2 the function: \", mylist)\n"
   ]
  },
  {
   "cell_type": "code",
   "execution_count": null,
   "metadata": {},
   "outputs": [],
   "source": [
    "#argument par défaut \n",
    "def printinfo( name, age = 20 ):\n",
    "    print( \"Name: \", name)\n",
    "    print(\"Age \", age)\n",
    "    \n",
    "\n",
    "printinfo(\"Ahmed\", 50 )\n",
    "printinfo( \"Amine\" )\n"
   ]
  },
  {
   "cell_type": "markdown",
   "metadata": {},
   "source": [
    "# les fichiers"
   ]
  },
  {
   "cell_type": "code",
   "execution_count": null,
   "metadata": {},
   "outputs": [],
   "source": [
    "fileIn=open('.\\\\tmpRep\\\\matRes.txt','r')\n",
    "contenu = fileIn.read()\n",
    "print(contenu)\n",
    "\n",
    "fileIn=open('.\\\\tmpRep\\\\matRes.txt','r')\n",
    "#affichage du contenu de fichier ligne par ligne\n",
    "for line in fileIn:\n",
    "    print('line:',line.rstrip())\n",
    "\n",
    "fileIn.close()\n"
   ]
  },
  {
   "cell_type": "code",
   "execution_count": null,
   "metadata": {},
   "outputs": [],
   "source": [
    "#affichage du contenu de fichier mot par mot \n",
    "file=open('.\\\\tmpRep\\\\matRes.txt','r')\n",
    "for line in file:\n",
    "    words = line.split()\n",
    "    for word in words:\n",
    "        print('word :',word)\n",
    "\n",
    "file.close()"
   ]
  },
  {
   "cell_type": "code",
   "execution_count": null,
   "metadata": {},
   "outputs": [],
   "source": [
    "#Écriture dans un ﬁchier\n",
    "langages = ['c++\\n', 'java\\n', 'python\\n', 'scala']\n",
    "#ouverture du fichier en mode écriture\n",
    "filout = open('d:\\\\file.txt', 'w')\n",
    "for langage in langages:\n",
    "    #écriture dans le fichier\n",
    "    filout.write(langage)\n",
    "filout.close() #fermer le fichier\n"
   ]
  },
  {
   "cell_type": "markdown",
   "metadata": {},
   "source": [
    "# Numpy"
   ]
  },
  {
   "cell_type": "code",
   "execution_count": null,
   "metadata": {},
   "outputs": [],
   "source": [
    "import numpy as np\n",
    "\n",
    "mat = np.array([[1.2,2.5],[3.2,1.8],[1.1,4.3]])\n",
    "print(mat) # affichage de la matrice\n",
    "\n",
    "print(mat.dtype)  # type des données float64\n",
    "\n",
    "#nombre de dimensions \n",
    "print(mat.ndim)  #2 (car c’est une matrice) \n",
    "\n",
    "#nombre de lignes et col, shape renvoie un tuple\n",
    "print(mat.shape)  #(3,2) 3 lignes et 2 colonnes \n",
    "\n",
    "#nombre totale de valeurs \n",
    "print(mat.size)  #6, nb.lignes x nb.colonnes\n"
   ]
  },
  {
   "cell_type": "code",
   "execution_count": null,
   "metadata": {},
   "outputs": [],
   "source": [
    "import numpy as np\n",
    "mat = np.array([[1,2],[4,7]]) #création et typage implicite\n",
    "print(mat)\n",
    "mat = np.array([[1,2],[4,7]],dtype=float) #création et typage explicite \n",
    "print(mat)\n",
    "\n",
    "#création à partir d'une séquence\n",
    "#arange() génère une séquence de valeurs, 0 à 9.\n",
    "#reshape() se charge de les réorganiser en matrice \n",
    "mat = np.arange(0,20,2).reshape(2,5)\n",
    "print(mat)\n",
    "\n",
    "#matrices de valeurs identiques \n",
    "mat = np.zeros(shape=(2,4))\n",
    "print(mat)\n",
    "\n",
    "#plus généralement\n",
    "mat = np.full(shape=(2,4),fill_value=0.1)\n",
    "print(mat)\n"
   ]
  },
  {
   "cell_type": "code",
   "execution_count": null,
   "metadata": {},
   "outputs": [],
   "source": [
    "import numpy as np\n",
    "#concaténation de ligne ou de matrices\n",
    "a = np.array([[2, 5, 3],[1,7,4]])\n",
    "b = np.array([[5, 6, 3]])\n",
    "c = np.append(a,b,axis=0)\n",
    "print(a)\n",
    "print(c)\n",
    "\n",
    "#ajouter une colonne\n",
    "d = np.array([[9],[3.2],[5.4]])\n",
    "d=np.append(c,d,axis=1)\n",
    "print(d)\n",
    "\n",
    "#insertion\n",
    "print(np.insert(a,1,b,axis=0)) \n",
    " \n",
    "print('suppression')\n",
    "\n",
    "#suppression\n",
    "print(np.delete(a,1,axis=1))\n"
   ]
  },
  {
   "cell_type": "code",
   "execution_count": null,
   "metadata": {},
   "outputs": [],
   "source": [
    "import numpy as np\n",
    "mat = np.array([[1.2,2.5],[3.2,1.8],[1.1,4.3]])\n",
    "print(mat)\n",
    "print(mat[0,0]) #accès indicé - première valeur  1.2\n",
    "\n",
    "print(mat.shape)\n",
    "print(mat[mat.shape[0]-1,mat.shape[1]-1]) #dernière valeur  4.3\n",
    "\n",
    "print(mat[0:2,:]) #plage d'indices contigus : lignes 0 à 1 (2 non inclus), toutes les colonnes \n",
    "\n",
    "print(mat[1:,:]) #de la ligne 1 à la fin, toutes les colonnes \n",
    "\n",
    "print(mat[-1,:]) #dernière ligne et toutes les colonnes \n",
    "\n",
    "print(mat[-2:,:]) #les deux dernières lignes et toutes les colonnes \n",
    "\n",
    "mat[:,:]=0\n",
    "print(mat)\n"
   ]
  },
  {
   "cell_type": "markdown",
   "metadata": {},
   "source": [
    "# #CALCULS SUR LES MATRICES"
   ]
  },
  {
   "cell_type": "code",
   "execution_count": null,
   "metadata": {},
   "outputs": [],
   "source": [
    "import numpy as np\n",
    "mat = np.array([[1.2,2.5],[3.2,1.8],[1.1,4.3]])\n",
    "print(mat)\n",
    "\n",
    "#moyenne des lignes pour chaque colonne \n",
    "print(np.mean(mat,axis=0)) \n",
    "\n",
    "#moyenne des colonnes pour chaque ligne\n",
    "print(np.mean(mat,axis=1)) \n",
    "\n",
    "#somme cumulée des valeurs en ligne pour chaque colonne\n",
    "print(np.cumsum(mat,axis=0))\n",
    "\n",
    "#matrice de corrélation\n",
    "#rowvar = 0 pour indiquer que les variables\n",
    "#sont organisés en colonnes\n",
    "m = np.corrcoef(mat,rowvar=0)\n",
    "print(m)\n",
    "\n"
   ]
  },
  {
   "cell_type": "markdown",
   "metadata": {},
   "source": [
    "## Tri sur les valeurs "
   ]
  },
  {
   "cell_type": "code",
   "execution_count": null,
   "metadata": {},
   "outputs": [],
   "source": [
    "import numpy as np \n",
    "mat = np.array([[1.2,2.5],[3.2,1.8],[1.1,4.3]])\n",
    "\n",
    "#recherche valeur max des lignes (axis = 0) pour chaque colonne\n",
    "print(np.max(mat,axis=0)) # le max des lignes par colonne  \n",
    "\n",
    "#recherche valeur max des colonnes (axis = 1) pour chaque ligne\n",
    "print(np.max(mat,axis=1)) # [ 2.5  3.2  4.3] \n",
    "\n",
    "#recherche indice de valeur max des lignes (axis = 0)pour chaque colonne\n",
    "print(np.argmax(mat,axis=0)) # [ 1   2 ]\n",
    "\n",
    "#tri des lignes (axis = 0) pour chaque colonne\n",
    "#la relation entre les valeurs d'une même ligne est perdue !!!\n",
    "print(np.sort(mat,axis=0)) \n",
    "\n",
    "#récupération des indices triés\n",
    "print(np.argsort(mat,axis=0)) \n"
   ]
  },
  {
   "cell_type": "markdown",
   "metadata": {},
   "source": [
    "## Fonctions matricielles "
   ]
  },
  {
   "cell_type": "code",
   "execution_count": null,
   "metadata": {},
   "outputs": [],
   "source": [
    "a = np.arange(0, 12).reshape(3,4)\n",
    "b = np.arange(10, 22).reshape(4,3)\n",
    "\n",
    "print(np.transpose(a))\n",
    "c= np.dot(a,b)\n",
    "print(c)\n",
    "print(np.trace(c))\n",
    "m = np.arange(2,6).reshape(2,2)\n",
    "print(m)\n",
    "n= np.linalg.inv(m)\n",
    "print(np.dot(m,n))\n",
    "\n",
    "u,s,v = np.linalg.svd(m)\n",
    "\n",
    " \n",
    "mats2 = np.zeros(shape=(2,2))\n",
    "\n",
    "mats2[0,0]=s[0]\n",
    "mats2[1,1]=s[1]\n",
    "\n",
    "tmp = np.dot(u,mats2)\n",
    "m2 = np.dot(tmp,v)\n",
    "print(u)\n",
    "print(s)\n",
    "print(v)\n",
    "print(m)\n",
    "print(m2)\n",
    "\n",
    "\n"
   ]
  }
 ],
 "metadata": {
  "celltoolbar": "Attachments",
  "kernelspec": {
   "display_name": "Python 3",
   "language": "python",
   "name": "python3"
  },
  "language_info": {
   "codemirror_mode": {
    "name": "ipython",
    "version": 3
   },
   "file_extension": ".py",
   "mimetype": "text/x-python",
   "name": "python",
   "nbconvert_exporter": "python",
   "pygments_lexer": "ipython3",
   "version": "3.7.0"
  }
 },
 "nbformat": 4,
 "nbformat_minor": 2
}
